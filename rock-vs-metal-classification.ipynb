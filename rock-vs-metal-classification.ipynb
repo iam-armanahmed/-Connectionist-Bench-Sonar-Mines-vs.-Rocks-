{
 "cells": [
  {
   "cell_type": "code",
   "execution_count": 26,
   "metadata": {},
   "outputs": [],
   "source": [
    "# Import Libraries\n",
    "\n",
    "import numpy as np\n",
    "import pandas as pd\n",
    "import matplotlib.pyplot as plt\n",
    "from pandas import set_option\n",
    "from pandas.plotting import scatter_matrix\n",
    "from sklearn.preprocessing import StandardScaler\n",
    "from sklearn.model_selection import train_test_split,KFold, cross_val_score,GridSearchCV\n",
    "from sklearn.metrics import classification_report, accuracy_score, confusion_matrix\n",
    "from sklearn.pipeline import Pipeline\n",
    "from sklearn.linear_model import LogisticRegression\n",
    "from sklearn.tree import DecisionTreeClassifier\n",
    "from sklearn.neighbors import KNeighborsClassifier\n",
    "from sklearn.discriminant_analysis import LinearDiscriminantAnalysis\n",
    "from sklearn.naive_bayes import GaussianNB\n",
    "from sklearn.svm import SVC\n",
    "from sklearn.ensemble import AdaBoostClassifier, GradientBoostingClassifier, RandomForestClassifier, ExtraTreesClassifier\n",
    "% matplotlib qt"
   ]
  },
  {
   "cell_type": "code",
   "execution_count": 7,
   "metadata": {},
   "outputs": [],
   "source": [
    "# load dataset\n",
    "\n",
    "data = pd.read_csv('Data/sonar.all-data.csv', header=None)"
   ]
  },
  {
   "cell_type": "markdown",
   "metadata": {},
   "source": [
    "## Exploratory Data Analysis"
   ]
  },
  {
   "cell_type": "code",
   "execution_count": 15,
   "metadata": {},
   "outputs": [
    {
     "name": "stdout",
     "output_type": "stream",
     "text": [
      "Data shape : (208, 61) \n",
      "\n",
      "Data Types :\n",
      "  0     float64\n",
      "1     float64\n",
      "2     float64\n",
      "3     float64\n",
      "4     float64\n",
      "5     float64\n",
      "6     float64\n",
      "7     float64\n",
      "8     float64\n",
      "9     float64\n",
      "10    float64\n",
      "11    float64\n",
      "12    float64\n",
      "13    float64\n",
      "14    float64\n",
      "15    float64\n",
      "16    float64\n",
      "17    float64\n",
      "18    float64\n",
      "19    float64\n",
      "20    float64\n",
      "21    float64\n",
      "22    float64\n",
      "23    float64\n",
      "24    float64\n",
      "25    float64\n",
      "26    float64\n",
      "27    float64\n",
      "28    float64\n",
      "29    float64\n",
      "       ...   \n",
      "31    float64\n",
      "32    float64\n",
      "33    float64\n",
      "34    float64\n",
      "35    float64\n",
      "36    float64\n",
      "37    float64\n",
      "38    float64\n",
      "39    float64\n",
      "40    float64\n",
      "41    float64\n",
      "42    float64\n",
      "43    float64\n",
      "44    float64\n",
      "45    float64\n",
      "46    float64\n",
      "47    float64\n",
      "48    float64\n",
      "49    float64\n",
      "50    float64\n",
      "51    float64\n",
      "52    float64\n",
      "53    float64\n",
      "54    float64\n",
      "55    float64\n",
      "56    float64\n",
      "57    float64\n",
      "58    float64\n",
      "59    float64\n",
      "60     object\n",
      "Length: 61, dtype: object \n",
      "\n"
     ]
    }
   ],
   "source": [
    "# Shape of the Data\n",
    "\n",
    "print('Data shape :', data.shape, '\\n')\n",
    "print('Data Types :\\n ', data.dtypes, '\\n')"
   ]
  },
  {
   "cell_type": "code",
   "execution_count": 14,
   "metadata": {},
   "outputs": [
    {
     "name": "stdout",
     "output_type": "stream",
     "text": [
      "       0       1       2       3       4  ...      56      57      58      59  60\n",
      "0  0.0200  0.0371  0.0428  0.0207  0.0954 ...  0.0180  0.0084  0.0090  0.0032   R\n",
      "1  0.0453  0.0523  0.0843  0.0689  0.1183 ...  0.0140  0.0049  0.0052  0.0044   R\n",
      "2  0.0262  0.0582  0.1099  0.1083  0.0974 ...  0.0316  0.0164  0.0095  0.0078   R\n",
      "3  0.0100  0.0171  0.0623  0.0205  0.0205 ...  0.0050  0.0044  0.0040  0.0117   R\n",
      "4  0.0762  0.0666  0.0481  0.0394  0.0590 ...  0.0072  0.0048  0.0107  0.0094   R\n",
      "5  0.0286  0.0453  0.0277  0.0174  0.0384 ...  0.0057  0.0027  0.0051  0.0062   R\n",
      "6  0.0317  0.0956  0.1321  0.1408  0.1674 ...  0.0092  0.0143  0.0036  0.0103   R\n",
      "7  0.0519  0.0548  0.0842  0.0319  0.1158 ...  0.0085  0.0047  0.0048  0.0053   R\n",
      "8  0.0223  0.0375  0.0484  0.0475  0.0647 ...  0.0065  0.0093  0.0059  0.0022   R\n",
      "9  0.0164  0.0173  0.0347  0.0070  0.0187 ...  0.0032  0.0035  0.0056  0.0040   R\n",
      "\n",
      "[10 rows x 61 columns]\n"
     ]
    }
   ],
   "source": [
    "# Peak at the data\n",
    "\n",
    "set_option('display.width', 100)\n",
    "print(data.head(10))"
   ]
  },
  {
   "cell_type": "code",
   "execution_count": 19,
   "metadata": {},
   "outputs": [
    {
     "name": "stdout",
     "output_type": "stream",
     "text": [
      "Dataset Description : \n",
      "             0          1        2     ...             57         58         59\n",
      "count  208.000  2.080e+02  208.000    ...      2.080e+02  2.080e+02  2.080e+02\n",
      "mean     0.029  3.844e-02    0.044    ...      7.949e-03  7.941e-03  6.507e-03\n",
      "std      0.023  3.296e-02    0.038    ...      6.470e-03  6.181e-03  5.031e-03\n",
      "min      0.002  6.000e-04    0.002    ...      3.000e-04  1.000e-04  6.000e-04\n",
      "25%      0.013  1.645e-02    0.019    ...      3.600e-03  3.675e-03  3.100e-03\n",
      "50%      0.023  3.080e-02    0.034    ...      5.800e-03  6.400e-03  5.300e-03\n",
      "75%      0.036  4.795e-02    0.058    ...      1.035e-02  1.033e-02  8.525e-03\n",
      "max      0.137  2.339e-01    0.306    ...      4.400e-02  3.640e-02  4.390e-02\n",
      "\n",
      "[8 rows x 60 columns]\n"
     ]
    }
   ],
   "source": [
    "# Description \n",
    "set_option('precision',3)\n",
    "print('Dataset Description : \\n', data.describe())"
   ]
  },
  {
   "cell_type": "code",
   "execution_count": 21,
   "metadata": {},
   "outputs": [
    {
     "name": "stdout",
     "output_type": "stream",
     "text": [
      "Class Distribution in the dataset : \n",
      " 60\n",
      "M    111\n",
      "R     97\n",
      "dtype: int64\n"
     ]
    }
   ],
   "source": [
    "# Class Distribution\n",
    "\n",
    "print('Class Distribution in the dataset : \\n' ,data.groupby(60).size())"
   ]
  },
  {
   "cell_type": "markdown",
   "metadata": {},
   "source": [
    "# Data Visualization"
   ]
  },
  {
   "cell_type": "code",
   "execution_count": 31,
   "metadata": {},
   "outputs": [],
   "source": [
    "# Unimodal Hist Visualization\n",
    "data.hist(sharex=False,sharey=False, xlabelsize=1, ylabelsize=1)\n",
    "plt.show()\n",
    "\n",
    "# Unimodal Density Visualization\n",
    "data.plot(kind='density', subplots=True, sharex=False, sharey=False, layout=(8,8) ,fontsize=1)\n",
    "plt.show()"
   ]
  },
  {
   "cell_type": "code",
   "execution_count": 33,
   "metadata": {},
   "outputs": [],
   "source": [
    "# Multimodal Data Visulization\n",
    "\n",
    "# Plot correlation matrix\n",
    "fig = plt.figure()\n",
    "ax = fig.add_subplot(111)\n",
    "cax = ax.matshow(data.corr(), vmin=-1, vmax=1, interpolation=None)\n",
    "fig.colorbar(cax)\n",
    "plt.show()"
   ]
  },
  {
   "cell_type": "code",
   "execution_count": null,
   "metadata": {},
   "outputs": [],
   "source": []
  }
 ],
 "metadata": {
  "kernelspec": {
   "display_name": "Python [conda env:anaconda3]",
   "language": "python",
   "name": "conda-env-anaconda3-py"
  },
  "language_info": {
   "codemirror_mode": {
    "name": "ipython",
    "version": 3
   },
   "file_extension": ".py",
   "mimetype": "text/x-python",
   "name": "python",
   "nbconvert_exporter": "python",
   "pygments_lexer": "ipython3",
   "version": "3.6.5"
  }
 },
 "nbformat": 4,
 "nbformat_minor": 2
}
